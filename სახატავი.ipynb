{
  "nbformat": 4,
  "nbformat_minor": 0,
  "metadata": {
    "colab": {
      "provenance": []
    },
    "kernelspec": {
      "name": "python3",
      "display_name": "Python 3"
    },
    "language_info": {
      "name": "python"
    }
  },
  "cells": [
    {
      "cell_type": "code",
      "execution_count": null,
      "metadata": {
        "id": "zQhU_i5VCnWv"
      },
      "outputs": [],
      "source": [
        "!pip install rdkit"
      ]
    },
    {
      "cell_type": "markdown",
      "source": [
        "<img src=\"https://i.imgur.com/MC4UQei.jpg\" width=\"200\" height=\"150\"> <br><br>\n",
        "სალამი, ეს იქნება ჩვენი სამუშაო სივრცე. იმედია, მარტივი იქნება გამოსაყენებლად.\n",
        "<br><br>დასაწყისისთვის, უნდა დააინსტალირო rdkit-ი. ამისთვის დააკლიკე ზედა უჯრას და გაუშვი(run cell). შედეგი უნდა გამოიყურებოდეს ასე:\n",
        "\n",
        "> <img src=\"https://i.imgur.com/c9pEKU0.png\" width=\"700\" height=\"150\">\n"
      ],
      "metadata": {
        "id": "DSQ4yoXfC8Ms"
      }
    },
    {
      "cell_type": "markdown",
      "source": [
        "ახლა უნდა დავაიმპორტოთ ის მოდულები, რომლებიც სახატავად გვჭირდება. <br> ამისთვის უბრალოდ გაუშვი ქვედა უჯრა (run cell):"
      ],
      "metadata": {
        "id": "TnUIuO1dH0TC"
      }
    },
    {
      "cell_type": "code",
      "source": [
        "from rdkit import Chem\n",
        "from rdkit.Chem import Draw"
      ],
      "metadata": {
        "id": "WPMB3SuzIkmE"
      },
      "execution_count": null,
      "outputs": []
    },
    {
      "cell_type": "markdown",
      "source": [
        "ეს ორი ნაბიჯი ყოველთვის უნდა გაიმეორო როდესაც ახლიდან შემოხვალ სახატავად. ამიტომ ზედა ორ უჯრას ხელი არ მოკიდო ხოლმე და უცვლელი დატოვე. შენი კოდის დაწერა შეგეძლება ქვედა უჯრებში."
      ],
      "metadata": {
        "id": "FUTIViwMJlbA"
      }
    },
    {
      "cell_type": "markdown",
      "source": [
        "დავიწყოთ მაგალითებით<br> <br><img src=\"https://i.imgur.com/xfpfeO2.png\" width=\"260\" height=\"200\"> "
      ],
      "metadata": {
        "id": "tyNP0qbROQbb"
      }
    },
    {
      "cell_type": "markdown",
      "source": [
        "**მაგალითი #1**: PubMed ID: [24483240](https://pubmed.ncbi.nlm.nih.gov/24483240/) <br> Compound name: [Psychrophilin E](https://pubchem.ncbi.nlm.nih.gov/compound/101888573)<br>\n",
        "\n",
        "> Canonical SMILES:\n",
        "\n",
        ">> CC(=O)NC1CC2=CN(C3=CC=CC=C23)C(=O)C4=CC=CC=C4NC(=O)C5CCCN5C1=O\n",
        "\n",
        "\n",
        ">InChI:\n",
        ">>InChI=1S/C25H24N4O4/c1-15(30)26-20-13-16-14-29(21-10-5-3-7-17(16)21)24(32)18-8-2-4-9-19(18)27-23(31)22-11-6-12-28(22)25(20)33/h2-5,7-10,14,20,22H,6,11-13H2,1H3,(H,26,30)(H,27,31)/t20-,22-/m0/s1\n",
        "\n",
        "\n",
        "> 2D stucture:\n",
        ">> <img src=\"https://i.imgur.com/4GRppFR.png\" width=\"500\" height=\"500\">\n",
        "\n",
        "\n"
      ],
      "metadata": {
        "id": "_ig19gYSP9Zr"
      }
    },
    {
      "cell_type": "markdown",
      "source": [
        "ამ მოლეკულის SMILES-ით დასახატად გაუშვი ქვედა უჯრაში აკრეფილი კოდი. შეგიძლია შიგნით რაღაცეები შეცვალო და დააკვირდე, როგორ იცვლება ამით მიღებული ნახატი.<br> კოდში **#**-სიმბოლოთი დაწყებული ხაზები output-ზე გავლენას არ ახდენს. ამ გზით შეგიძლია შენს ნაწერს კომენტარები დაურთო\n",
        "\n"
      ],
      "metadata": {
        "id": "9uojDbGpTRoI"
      }
    },
    {
      "cell_type": "code",
      "source": [
        "# პირველ ხაზში ვიყენებ ფუნქციას Chem.MolFromSmiles. ფუნქციების გამოძახება case-sensitive არის და ამიტომ დიდი და პატარა ასოები სწორად უნდა დაუწერო თორემ ვერ იცნობს.\n",
        "m = Chem.MolFromSmiles('CC(=O)NC1CC2=CN(C3=CC=CC=C23)C(=O)C4=CC=CC=C4NC(=O)C5CCCN5C1=O') \n",
        "# m არის უბრალოდ ცვლადის სახელი. ცვლადს შეგიძლია ის დაარქვა, რაც გინდა, მაგალითად ჯუმბერი\n",
        "img = Draw.MolToImage(m, size=(500, 500), kekulize=False, imageType=\"svg\")\n",
        "# ფრჩხილებში იწერება ის პარამეტრები, რასაც ფუნქციას გადავცემ. შეგიძლია შეცვალო რაღაც პარამეტრები და დააკვირდე შედეგი როგორ შეიცვლება\n",
        "# ამ შემთხვევაში ვეუბნები რომ არომატულ ციკლებს კეკულეს სტრუქტურა არ მისცეს. შეგიძლია სიტყვა False ჩაანაცვლო True-თი და ნახო განსხვავება.\n",
        "img.show()\n",
        "# შეიძლება ფრჩხილები სულაც ცარიელი იყოს, როცა არაფერი პარამეტრი არ მაქვს (უბრალოდ ვეუბნები რომ მიღებული ნახატი მაჩვენოს)"
      ],
      "metadata": {
        "id": "ksrLgHbqR_db"
      },
      "execution_count": null,
      "outputs": []
    },
    {
      "cell_type": "markdown",
      "source": [
        "ახლა InChI სტრინგი გამოვიყენოთ. პრინციპი იქნება იგივე:"
      ],
      "metadata": {
        "id": "XmqVjvIOYuL7"
      }
    },
    {
      "cell_type": "code",
      "source": [
        "inchi = \"InChI=1S/C25H24N4O4/c1-15(30)26-20-13-16-14-29(21-10-5-3-7-17(16)21)24(32)18-8-2-4-9-19(18)27-23(31)22-11-6-12-28(22)25(20)33/h2-5,7-10,14,20,22H,6,11-13H2,1H3,(H,26,30)(H,27,31)/t20-,22-/m0/s1\"\n",
        "x = Chem.MolFromInchi(inchi)\n",
        "img = Draw.MolToImage(x, size=(500, 500), kekulize=False, wedgeBonds=True, imageType=\"svg\")\n",
        "# რადგან InChI სტრინგებში სტერეოქიმიაზე უფრო მეტი ინფორმაციაა ვიდრე SMILES-ებში, აქ დავამატე პარამეტრი wedgeBonds. დიდად მაინც ვერაფერი უშველა, როგორც ჩანს \n",
        "img.show()"
      ],
      "metadata": {
        "id": "cNWo90iTY-sI"
      },
      "execution_count": null,
      "outputs": []
    },
    {
      "cell_type": "markdown",
      "source": [
        "ახლა პირიქით, ჩვენი დახატული სტრუქტურიდან ავიღოთ SMILES."
      ],
      "metadata": {
        "id": "15gGM5bZfrZP"
      }
    },
    {
      "cell_type": "code",
      "source": [
        "print(Chem.MolToSmiles(m))"
      ],
      "metadata": {
        "id": "XqoujO2Tfxdr",
        "colab": {
          "base_uri": "https://localhost:8080/"
        },
        "outputId": "4bd0b070-7e28-4d87-cb89-1ef43ac30957"
      },
      "execution_count": 45,
      "outputs": [
        {
          "output_type": "stream",
          "name": "stdout",
          "text": [
            "O=C(O)CCC1NC(=O)C2CCCN2C(=O)CNC1=O\n"
          ]
        }
      ]
    },
    {
      "cell_type": "markdown",
      "source": [
        "**მაგალითი #2**: PubMed ID: [15270577](https://pubmed.ncbi.nlm.nih.gov/15270577/) <br> Compound name: [cyclo-(glycyl-L-prolyl-L-glutamyl)](https://pubchem.ncbi.nlm.nih.gov/compound/11277548)<br>\n",
        "\n",
        "> Canonical SMILES:\n",
        "\n",
        ">> C1CC2C(=O)NC(C(=O)NCC(=O)N2C1)CCC(=O)O\n",
        "\n",
        "\n",
        ">InChI:\n",
        ">>InChI=1S/C12H17N3O5/c16-9-6-13-11(19)7(3-4-10(17)18)14-12(20)8-2-1-5-15(8)9/h7-8H,1-6H2,(H,13,19)(H,14,20)(H,17,18)/t7-,8-/m0/s1\n",
        "\n",
        "\n",
        "\n",
        "\n",
        "\n",
        "> 2D stucture:\n",
        ">> <img src=\"https://i.imgur.com/dQBfZGQ.png\" width=\"500\" height=\"500\">\n",
        "\n",
        "\n"
      ],
      "metadata": {
        "id": "_azCaOyegrRx"
      }
    },
    {
      "cell_type": "markdown",
      "source": [
        "მოდი ამჯერად შენს გამოგზავნილ SMILES-ს გამოვიყენებ:\n",
        "\n",
        "> OC(=O)CCC1NC(=O)C2CCCN2C(=O)CNC1=O\n",
        "\n",
        "\n",
        "\n",
        "\n",
        "\n",
        "ამით ჯერ ავაგებ მოლეკულას და შემდეგ უკან SMILES-ად გადავაქცევ:\n",
        "\n"
      ],
      "metadata": {
        "id": "p3AYl7Acl5cZ"
      }
    },
    {
      "cell_type": "code",
      "source": [
        "smaili=\"OC(=O)CCC1NC(=O)C2CCCN2C(=O)CNC1=O\"\n",
        "\n",
        "molekula=Chem.MolFromSmiles(smaili)\n",
        "img = Draw.MolToImage(molekula, size=(500, 500), imageType=\"svg\")\n",
        "img.show()\n",
        "\n",
        "print(Chem.MolToSmiles(molekula))\n"
      ],
      "metadata": {
        "id": "I36Oju3kl5ED"
      },
      "execution_count": null,
      "outputs": []
    },
    {
      "cell_type": "markdown",
      "source": [
        "**მაგალითი #3**: PubMed ID: [20503985](https://pubmed.ncbi.nlm.nih.gov/20503985/) <br> \n",
        "\n",
        "> შენი მოცემული სმაილი:\n",
        "\n",
        ">> C\\C=C\\C=C\\C=C\\C(=O)NC1CCCNC(=O)C(C)NC(=O)C(C(C)C)N(C)C1=O\n",
        "\n",
        "\n",
        "> შენი ნახატი:\n",
        ">> <img src=\"https://i.imgur.com/FyYwIQy.png\" width=\"700\" height=\"350\">\n",
        "\n",
        "\n"
      ],
      "metadata": {
        "id": "IbEPoxGKnndv"
      }
    },
    {
      "cell_type": "markdown",
      "source": [
        "მოდი ამჯერად შენ ცადე ჯერ SMILES-იდან მოლეკულის აწყობა, მერე პირიქით. შენით დაამატე კოდის უჯრა და შენით შეავსე. შეგიძლია იმდენი კოდის ან ტექსტის უჯრა ჩაამატო, რამდენიც გაგიხარდება. კითხვების შემთხვევაში აუცილებლად ვეცდები დაგეხმარო. <br>\n",
        "<img src=\"https://i.imgur.com/ykGq6P7.png\" width=\"192\" height =\"160\">"
      ],
      "metadata": {
        "id": "3_TM0ZkypwtJ"
      }
    }
  ]
}